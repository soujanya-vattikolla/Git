{
  "nbformat": 4,
  "nbformat_minor": 0,
  "metadata": {
    "colab": {
      "name": "About Git and GitHub.ipynb",
      "provenance": [],
      "collapsed_sections": [],
      "authorship_tag": "ABX9TyPMHe9reBDH11xGOPYdEnVo",
      "include_colab_link": true
    },
    "kernelspec": {
      "name": "python3",
      "display_name": "Python 3"
    },
    "language_info": {
      "name": "python"
    }
  },
  "cells": [
    {
      "cell_type": "markdown",
      "metadata": {
        "id": "view-in-github",
        "colab_type": "text"
      },
      "source": [
        "<a href=\"https://colab.research.google.com/github/soujanya-vattikolla/Git-and-GitHub-for-Beginners/blob/main/About_Git_and_GitHub.ipynb\" target=\"_parent\"><img src=\"https://colab.research.google.com/assets/colab-badge.svg\" alt=\"Open In Colab\"/></a>"
      ]
    },
    {
      "cell_type": "markdown",
      "source": [
        "### Git:\n",
        "Free and open source version control system.\n",
        "\n",
        "### What is version control?\n",
        "We can track down all the changes made, track the bugs. We can also go back to the previous version of code if required.\n",
        "\n",
        "### Terms:\n",
        "Directory: Folder <br>\n",
        "Terminal or Command Line: Interface for Text Commands(create, update, install..) <br>\n",
        "CLI: (Command Line Interface) <br>\n",
        "cd: Change Directory <br>\n",
        "Code Editor: Place to write code <br>\n",
        "Repository: Project, place/folder where project is kept. <br>\n",
        "GitHub: A website to host your repositories online. \n",
        "\n",
        "### Git Commands:\n",
        "Clone: Bring a repository that is hosted somewhere like GitHub into a folder on your local machine. <br>\n",
        "add: Track your files and changes in Git. <br>\n",
        "commit: Save your files in Git. <br>\n",
        "push: Upload Git commits to remote repo like GitHub <br>\n",
        "pull: Download changes from remote repo to local machine\n",
        "\n",
        "### In terminal command:\n",
        "git clone <ssh> ## To clone the github repository to VS Code <br>\n",
        "git status ## Show us all the files created,updated or deleted  <br>\n",
        "git add . ## Track all the files listed (new files, updated files)  <br>\n",
        "git commit -m \"(message)\" -m \"description\"\n",
        "\n",
        "#### In order to use git push command, we need to create a SSH key\n",
        "### Open Git Bash <br>\n",
        "ssh-keygen -t rsa -b 4096 -C \"(github email address)\" <br>\n",
        "### Enter a filename (testkey)  <br>\n",
        "### To list the files : ls | grep testkey  <br>\n",
        "cat <testkey.pub>  <br>\n",
        "To copy all the key : clip < ~/(testkey.pub) <br>\n",
        "## Go to Github--settings--SSH and GPG keys---New SSH Keys(here paste the key) <br>\n",
        "We can find a new key in SSH keys <br>\n",
        "## In the terminal: git push origin master <br>\n",
        " \n",
        "#### To create a repo locally \n",
        "Step 1 : In terminal: move to the folder demorepo <br>\n",
        "Step 2: Create a readme.md file <br>\n",
        "Step 3: Make the demorepo as git file, go to terminal type: git init <br>\n",
        "Step 4: git status <br>\n",
        "Step 5: git add README.md <br>\n",
        "Step 6: git status <br>\n",
        "Step 7: git commit -m \"(message)\" -m \"(description)\" <br>\n",
        "Step 8: Go to github create a new repoistory, copy the SSH key <br>\n",
        "Step 9: Go to terminal: git remote add origin (paste the SSH key) <br>\n",
        "Step 10: To check the repoistory: git remote -v <br>\n",
        "Step 11: git push -u origin main <br>\n",
        "\n",
        "### Git Branching\n",
        "Master Branch: <br>\n",
        "Feature Branch: <br>\n",
        "Hot Fix Branch <br>\n",
        "#### To know th branch we are working on:  <br>\n",
        " git branch  <br>\n",
        "#### To create a new feature branch:  <br>\n",
        " git checkout -b (featurereadme) <br>\n",
        "#### To switch between branches:  <br>\n",
        " git branch     <br>\n",
        " git checkout main  <br>\n",
        " or    <br>\n",
        " git branch  <br>\n",
        " git checkout (featurereadme)  <br>\n",
        "#### To know the changes done  <br>\n",
        " git diff (featurereadme)   <br>\n",
        "####   <br>\n",
        " git checkout (featurereadme)  <br>\n",
        " git status  <br>\n",
        " git push -u origin (featurereadme)  <br>\n",
        "#### Merge both the branches   <br>\n",
        "In github, click on compare and pull request and then merge the branches   <br>\n",
        "#### Delete the feature branch   <br>\n",
        " git branch -d (featurereadme)   <br>\n",
        "#### Undoing the changes    <br>\n",
        " git reset       <br>\n",
        " or        <br>\n",
        " git reset <README.md>    <br>\n",
        "#### Undo the changes after commit  <br>\n",
        " git reset HEAD~1"
      ],
      "metadata": {
        "id": "qRhXj6D4dWWB"
      }
    }
  ]
}